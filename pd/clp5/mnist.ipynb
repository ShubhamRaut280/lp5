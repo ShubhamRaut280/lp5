{
 "cells": [
  {
   "cell_type": "code",
   "execution_count": null,
   "metadata": {
    "colab": {
     "base_uri": "https://localhost:8080/"
    },
    "id": "-MQ22Fj0LnXd",
    "outputId": "5f98d811-1daa-4eef-d8e2-d81c8073d833"
   },
   "outputs": [
    {
     "name": "stdout",
     "output_type": "stream",
     "text": [
      "Epoch 1: Train accuracy = 0.9756, Test accuracy = 0.9725\n",
      "Epoch 2: Train accuracy = 0.9845, Test accuracy = 0.9797\n",
      "Epoch 3: Train accuracy = 0.9872, Test accuracy = 0.9790\n"
     ]
    }
   ],
   "source": [
    "import tensorflow as tf\n",
    "from mpi4py import MPI\n",
    "import numpy as np\n",
    "\n",
    "comm = MPI.COMM_WORLD\n",
    "rank = comm.Get_rank()\n",
    "size = comm.Get_size()\n",
    "\n",
    "mnist = tf.keras.datasets.mnist\n",
    "(x_train, y_train), (x_test, y_test) = mnist.load_data()\n",
    "\n",
    "x_train, x_test = x_train / 255.0, x_test / 255.0\n",
    "x_train = x_train[..., tf.newaxis].astype(\"float32\")\n",
    "x_test = x_test[..., tf.newaxis].astype(\"float32\")\n",
    "\n",
    "\n",
    "def create_model():\n",
    "    model = tf.keras.models.Sequential([\n",
    "        tf.keras.layers.Conv2D(32, (3, 3), activation='relu', input_shape=(28, 28, 1)),\n",
    "        tf.keras.layers.MaxPooling2D((2, 2)),\n",
    "        tf.keras.layers.Flatten(),\n",
    "        tf.keras.layers.Dense(10, activation='softmax')\n",
    "    ])\n",
    "    return model\n",
    "\n",
    "def train(model, x_train, y_train, rank, size):\n",
    "    # Split data across nodes\n",
    "    n = len(x_train)\n",
    "    chunk_size = n // size\n",
    "    start = rank * chunk_size\n",
    "    end = n if rank == size - 1 else (rank + 1) * chunk_size\n",
    "\n",
    "    x_train_chunk = x_train[start:end]\n",
    "    y_train_chunk = y_train[start:end]\n",
    "\n",
    "    \n",
    "    model.compile(optimizer='adam',\n",
    "                  loss='sparse_categorical_crossentropy',\n",
    "                  metrics=['accuracy'])\n",
    "\n",
    "    \n",
    "    model.fit(x_train_chunk, y_train_chunk, epochs=1, batch_size=32, verbose=0)\n",
    "\n",
    "    \n",
    "    train_loss, train_acc = model.evaluate(x_train_chunk, y_train_chunk, verbose=0)\n",
    "\n",
    "    train_acc = comm.allreduce(train_acc, op=MPI.SUM) / size\n",
    "    return train_acc\n",
    "\n",
    "\n",
    "model = create_model()\n",
    "epochs = 3\n",
    "\n",
    "for epoch in range(epochs):\n",
    "\n",
    "    train_acc = train(model, x_train, y_train, rank, size)\n",
    "\n",
    "    test_loss, test_acc = model.evaluate(x_test, y_test, verbose=0)\n",
    "    test_acc = comm.allreduce(test_acc, op=MPI.SUM) / size\n",
    "\n",
    "    if rank == 0:\n",
    "        print(f\"Epoch {epoch + 1}: Train accuracy = {train_acc:.4f}, Test accuracy = {test_acc:.4f}\")\n"
   ]
  }
 ],
 "metadata": {
  "colab": {
   "provenance": []
  },
  "kernelspec": {
   "display_name": "Python 3 (ipykernel)",
   "language": "python",
   "name": "python3"
  },
  "language_info": {
   "codemirror_mode": {
    "name": "ipython",
    "version": 3
   },
   "file_extension": ".py",
   "mimetype": "text/x-python",
   "name": "python",
   "nbconvert_exporter": "python",
   "pygments_lexer": "ipython3",
   "version": "3.12.7"
  }
 },
 "nbformat": 4,
 "nbformat_minor": 4
}
