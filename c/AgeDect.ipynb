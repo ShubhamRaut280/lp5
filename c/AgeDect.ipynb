{
 "cells": [
  {
   "cell_type": "code",
   "execution_count": 1,
   "id": "8b235542-381a-436f-ac02-8f69fea46e29",
   "metadata": {},
   "outputs": [],
   "source": [
    "import tensorflow as tf\n",
    "from tensorflow.keras.models import Sequential\n",
    "from tensorflow.keras.layers import Dense, Flatten, Conv2D, MaxPooling2D, Dropout\n",
    "from tensorflow.keras.preprocessing.image import ImageDataGenerator\n",
    "import pandas as pd\n",
    "import numpy as np\n",
    "import matplotlib.pyplot as plt\n",
    "import cv2\n",
    "import os"
   ]
  },
  {
   "cell_type": "code",
   "execution_count": 2,
   "id": "41aa194e-2d0c-4d38-918e-f6be9ccd42a5",
   "metadata": {},
   "outputs": [],
   "source": [
    "# Define constants\n",
    "img_height = 128\n",
    "img_width = 128\n",
    "batch_size = 32\n",
    "epochs = 6"
   ]
  },
  {
   "cell_type": "code",
   "execution_count": 5,
   "id": "ecd8ba99-9c46-4a9a-94dc-bebb7c65a73b",
   "metadata": {},
   "outputs": [
    {
     "data": {
      "text/html": [
       "<div>\n",
       "<style scoped>\n",
       "    .dataframe tbody tr th:only-of-type {\n",
       "        vertical-align: middle;\n",
       "    }\n",
       "\n",
       "    .dataframe tbody tr th {\n",
       "        vertical-align: top;\n",
       "    }\n",
       "\n",
       "    .dataframe thead th {\n",
       "        text-align: right;\n",
       "    }\n",
       "</style>\n",
       "<table border=\"1\" class=\"dataframe\">\n",
       "  <thead>\n",
       "    <tr style=\"text-align: right;\">\n",
       "      <th></th>\n",
       "      <th>Unnamed: 0</th>\n",
       "      <th>age</th>\n",
       "      <th>gender</th>\n",
       "      <th>ethnicity</th>\n",
       "      <th>image</th>\n",
       "    </tr>\n",
       "  </thead>\n",
       "  <tbody>\n",
       "    <tr>\n",
       "      <th>0</th>\n",
       "      <td>2226</td>\n",
       "      <td>1</td>\n",
       "      <td>1</td>\n",
       "      <td>0</td>\n",
       "      <td>109 146 198 132 169 221 134 171 223 137 174 22...</td>\n",
       "    </tr>\n",
       "    <tr>\n",
       "      <th>1</th>\n",
       "      <td>2047</td>\n",
       "      <td>1</td>\n",
       "      <td>0</td>\n",
       "      <td>3</td>\n",
       "      <td>0 1 2 2 1 1 5 1 0 11 3 3 1 0 6 27 35 45 97 111...</td>\n",
       "    </tr>\n",
       "    <tr>\n",
       "      <th>2</th>\n",
       "      <td>2048</td>\n",
       "      <td>1</td>\n",
       "      <td>0</td>\n",
       "      <td>3</td>\n",
       "      <td>54 64 91 55 66 95 56 72 105 58 76 113 67 85 12...</td>\n",
       "    </tr>\n",
       "    <tr>\n",
       "      <th>3</th>\n",
       "      <td>2049</td>\n",
       "      <td>1</td>\n",
       "      <td>0</td>\n",
       "      <td>3</td>\n",
       "      <td>80 98 125 77 94 129 113 131 169 147 169 201 16...</td>\n",
       "    </tr>\n",
       "    <tr>\n",
       "      <th>4</th>\n",
       "      <td>2050</td>\n",
       "      <td>1</td>\n",
       "      <td>0</td>\n",
       "      <td>3</td>\n",
       "      <td>63 55 96 58 51 94 72 67 112 83 80 126 91 90 13...</td>\n",
       "    </tr>\n",
       "  </tbody>\n",
       "</table>\n",
       "</div>"
      ],
      "text/plain": [
       "   Unnamed: 0  age  gender ethnicity  \\\n",
       "0        2226    1       1         0   \n",
       "1        2047    1       0         3   \n",
       "2        2048    1       0         3   \n",
       "3        2049    1       0         3   \n",
       "4        2050    1       0         3   \n",
       "\n",
       "                                               image  \n",
       "0  109 146 198 132 169 221 134 171 223 137 174 22...  \n",
       "1  0 1 2 2 1 1 5 1 0 11 3 3 1 0 6 27 35 45 97 111...  \n",
       "2  54 64 91 55 66 95 56 72 105 58 76 113 67 85 12...  \n",
       "3  80 98 125 77 94 129 113 131 169 147 169 201 16...  \n",
       "4  63 55 96 58 51 94 72 67 112 83 80 126 91 90 13...  "
      ]
     },
     "execution_count": 5,
     "metadata": {},
     "output_type": "execute_result"
    }
   ],
   "source": [
    "df = pd.read_csv('UTKFace.csv')\n",
    "df.head()"
   ]
  },
  {
   "cell_type": "code",
   "execution_count": 11,
   "id": "3ee0b57a-4d8b-4637-ac46-5602b7799b20",
   "metadata": {},
   "outputs": [],
   "source": [
    "# Load and clean dataset\n",
    "df = pd.read_csv('UTKFace.csv')\n",
    "df['age'] = df['age'].apply(lambda x: min(x, 100))"
   ]
  },
  {
   "cell_type": "code",
   "execution_count": 12,
   "id": "46d4f85e-b9ce-475b-bc5a-376da37d643c",
   "metadata": {},
   "outputs": [],
   "source": [
    "# Convert 'image' column to numpy arrays\n",
    "def parse_image(img_str):\n",
    "    pixels = np.array(img_str.split(), dtype='float32')\n",
    "    return pixels"
   ]
  },
  {
   "cell_type": "code",
   "execution_count": 14,
   "id": "d2678bf3-4e32-4e76-8a87-33f148512067",
   "metadata": {},
   "outputs": [],
   "source": [
    "# Parse image column\n",
    "X = np.stack(df['image'].apply(parse_image).values)\n",
    "\n",
    "# Assume images are 48x48 grayscale\n",
    "X = X.reshape(-1, 100, 75, 1) / 255.0"
   ]
  },
  {
   "cell_type": "code",
   "execution_count": 15,
   "id": "98b532dc-ef92-40aa-8e31-8925735e1f82",
   "metadata": {},
   "outputs": [],
   "source": [
    "# Labels\n",
    "y_gender = df['gender'].values\n",
    "y_age = df['age'].values\n",
    "\n",
    "# Combine outputs as one for simplicity\n",
    "y = np.stack((y_gender, y_age), axis=1)"
   ]
  },
  {
   "cell_type": "code",
   "execution_count": 17,
   "id": "65c29647-ad5f-4926-b324-67119ea7879d",
   "metadata": {},
   "outputs": [],
   "source": [
    "from sklearn.model_selection import train_test_split\n",
    "# Split into train/val/test\n",
    "X_train, X_temp, y_train, y_temp = train_test_split(X, y, test_size=0.2, random_state=42)\n",
    "X_val, X_test, y_val, y_test = train_test_split(X_temp, y_temp, test_size=0.5, random_state=42)"
   ]
  },
  {
   "cell_type": "code",
   "execution_count": 25,
   "id": "a91d8b11-7e99-4333-b828-7ab9b9063512",
   "metadata": {},
   "outputs": [],
   "source": [
    "model = Sequential([\n",
    "    Conv2D(32, (3, 3), activation='relu', input_shape=(100, 75, 1)),\n",
    "    MaxPooling2D((2, 2)),\n",
    "\n",
    "    Conv2D(64, (3, 3), activation='relu'),\n",
    "    MaxPooling2D((2, 2)),\n",
    "\n",
    "    Conv2D(128, (3, 3), activation='relu'),\n",
    "    MaxPooling2D((2, 2)),\n",
    "\n",
    "    Flatten(),  # This will now flatten to 8960 (automatically!)\n",
    "    Dropout(0.5),\n",
    "    Dense(256, activation='relu'),\n",
    "    Dense(2)  # One neuron for gender, one for age\n",
    "])\n"
   ]
  },
  {
   "cell_type": "code",
   "execution_count": 26,
   "id": "005660cb-e3bf-4bb6-ad20-85c77b3d8bbc",
   "metadata": {},
   "outputs": [],
   "source": [
    "model.compile(\n",
    "    optimizer='adam',\n",
    "    loss=['binary_crossentropy', 'mse'],\n",
    "    metrics=['accuracy', 'mae']\n",
    ")\n"
   ]
  },
  {
   "cell_type": "code",
   "execution_count": 29,
   "id": "7485ce08-51af-4b76-9b2d-82ce90397502",
   "metadata": {},
   "outputs": [],
   "source": [
    "from tensorflow.keras.models import Model\n",
    "from tensorflow.keras.layers import Input, Conv2D, MaxPooling2D, Flatten, Dropout, Dense\n",
    "\n",
    "input_img = Input(shape=(100, 75, 1))\n",
    "\n",
    "x = Conv2D(32, (3, 3), activation='relu')(input_img)\n",
    "x = MaxPooling2D((2, 2))(x)\n",
    "x = Conv2D(64, (3, 3), activation='relu')(x)\n",
    "x = MaxPooling2D((2, 2))(x)\n",
    "x = Conv2D(128, (3, 3), activation='relu')(x)\n",
    "x = MaxPooling2D((2, 2))(x)\n",
    "x = Flatten()(x)\n",
    "x = Dropout(0.5)(x)\n",
    "x = Dense(256, activation='relu')(x)\n",
    "\n",
    "# Two outputs\n",
    "gender_output = Dense(1, activation='sigmoid', name='gender')(x)\n",
    "age_output = Dense(1, activation='linear', name='age')(x)\n",
    "\n",
    "model = Model(inputs=input_img, outputs=[gender_output, age_output])"
   ]
  },
  {
   "cell_type": "code",
   "execution_count": 30,
   "id": "24e8c19b-8376-4b76-a4d5-d56f675ef78d",
   "metadata": {},
   "outputs": [
    {
     "name": "stdout",
     "output_type": "stream",
     "text": [
      "Epoch 1/10\n",
      "\u001b[1m593/593\u001b[0m \u001b[32m━━━━━━━━━━━━━━━━━━━━\u001b[0m\u001b[37m\u001b[0m \u001b[1m30s\u001b[0m 44ms/step - age_loss: 455.0335 - age_mae: 16.2940 - gender_accuracy: 0.5234 - gender_loss: 0.7015 - loss: 455.7355 - val_age_loss: 267.3553 - val_age_mae: 12.8258 - val_gender_accuracy: 0.6651 - val_gender_loss: 0.6249 - val_loss: 269.5788\n",
      "Epoch 2/10\n",
      "\u001b[1m593/593\u001b[0m \u001b[32m━━━━━━━━━━━━━━━━━━━━\u001b[0m\u001b[37m\u001b[0m \u001b[1m27s\u001b[0m 46ms/step - age_loss: 248.5218 - age_mae: 12.1220 - gender_accuracy: 0.6535 - gender_loss: 0.6248 - loss: 249.1464 - val_age_loss: 226.9052 - val_age_mae: 11.6290 - val_gender_accuracy: 0.7579 - val_gender_loss: 0.5351 - val_loss: 228.1958\n",
      "Epoch 3/10\n",
      "\u001b[1m593/593\u001b[0m \u001b[32m━━━━━━━━━━━━━━━━━━━━\u001b[0m\u001b[37m\u001b[0m \u001b[1m26s\u001b[0m 44ms/step - age_loss: 217.1036 - age_mae: 11.1778 - gender_accuracy: 0.7422 - gender_loss: 0.5382 - loss: 217.6418 - val_age_loss: 230.1740 - val_age_mae: 11.2059 - val_gender_accuracy: 0.7811 - val_gender_loss: 0.5031 - val_loss: 229.6346\n",
      "Epoch 4/10\n",
      "\u001b[1m593/593\u001b[0m \u001b[32m━━━━━━━━━━━━━━━━━━━━\u001b[0m\u001b[37m\u001b[0m \u001b[1m27s\u001b[0m 45ms/step - age_loss: 200.9292 - age_mae: 10.6042 - gender_accuracy: 0.7551 - gender_loss: 0.5089 - loss: 201.4380 - val_age_loss: 217.7313 - val_age_mae: 11.7317 - val_gender_accuracy: 0.7811 - val_gender_loss: 0.4691 - val_loss: 219.1492\n",
      "Epoch 5/10\n",
      "\u001b[1m593/593\u001b[0m \u001b[32m━━━━━━━━━━━━━━━━━━━━\u001b[0m\u001b[37m\u001b[0m \u001b[1m27s\u001b[0m 45ms/step - age_loss: 185.3214 - age_mae: 10.1479 - gender_accuracy: 0.7732 - gender_loss: 0.4854 - loss: 185.8069 - val_age_loss: 191.9778 - val_age_mae: 10.1310 - val_gender_accuracy: 0.7933 - val_gender_loss: 0.4434 - val_loss: 191.9028\n",
      "Epoch 6/10\n",
      "\u001b[1m593/593\u001b[0m \u001b[32m━━━━━━━━━━━━━━━━━━━━\u001b[0m\u001b[37m\u001b[0m \u001b[1m26s\u001b[0m 44ms/step - age_loss: 170.9542 - age_mae: 9.7199 - gender_accuracy: 0.7788 - gender_loss: 0.4639 - loss: 171.4182 - val_age_loss: 161.6605 - val_age_mae: 9.4310 - val_gender_accuracy: 0.8035 - val_gender_loss: 0.4286 - val_loss: 161.0814\n",
      "Epoch 7/10\n",
      "\u001b[1m593/593\u001b[0m \u001b[32m━━━━━━━━━━━━━━━━━━━━\u001b[0m\u001b[37m\u001b[0m \u001b[1m29s\u001b[0m 48ms/step - age_loss: 153.1526 - age_mae: 9.2304 - gender_accuracy: 0.7891 - gender_loss: 0.4562 - loss: 153.6087 - val_age_loss: 172.0611 - val_age_mae: 9.7124 - val_gender_accuracy: 0.8073 - val_gender_loss: 0.4379 - val_loss: 173.0799\n",
      "Epoch 8/10\n",
      "\u001b[1m593/593\u001b[0m \u001b[32m━━━━━━━━━━━━━━━━━━━━\u001b[0m\u001b[37m\u001b[0m \u001b[1m29s\u001b[0m 49ms/step - age_loss: 146.9737 - age_mae: 8.9763 - gender_accuracy: 0.7936 - gender_loss: 0.4491 - loss: 147.4229 - val_age_loss: 151.6375 - val_age_mae: 8.9300 - val_gender_accuracy: 0.7929 - val_gender_loss: 0.4394 - val_loss: 151.1085\n",
      "Epoch 9/10\n",
      "\u001b[1m593/593\u001b[0m \u001b[32m━━━━━━━━━━━━━━━━━━━━\u001b[0m\u001b[37m\u001b[0m \u001b[1m29s\u001b[0m 50ms/step - age_loss: 131.9622 - age_mae: 8.5733 - gender_accuracy: 0.7966 - gender_loss: 0.4410 - loss: 132.4031 - val_age_loss: 147.4803 - val_age_mae: 9.2145 - val_gender_accuracy: 0.7900 - val_gender_loss: 0.4681 - val_loss: 147.6285\n",
      "Epoch 10/10\n",
      "\u001b[1m593/593\u001b[0m \u001b[32m━━━━━━━━━━━━━━━━━━━━\u001b[0m\u001b[37m\u001b[0m \u001b[1m29s\u001b[0m 48ms/step - age_loss: 129.1020 - age_mae: 8.4558 - gender_accuracy: 0.7931 - gender_loss: 0.4459 - loss: 129.5479 - val_age_loss: 136.1027 - val_age_mae: 8.7887 - val_gender_accuracy: 0.8030 - val_gender_loss: 0.4376 - val_loss: 136.1029\n"
     ]
    }
   ],
   "source": [
    "model.compile(\n",
    "    optimizer='adam',\n",
    "    loss={'gender': 'binary_crossentropy', 'age': 'mse'},\n",
    "    metrics={'gender': 'accuracy', 'age': 'mae'}\n",
    ")\n",
    "\n",
    "history = model.fit(\n",
    "    X_train, {'gender': y_train[:, 0], 'age': y_train[:, 1]},\n",
    "    validation_data=(X_val, {'gender': y_val[:, 0], 'age': y_val[:, 1]}),\n",
    "    epochs=10,\n",
    "    batch_size=32\n",
    ")"
   ]
  },
  {
   "cell_type": "code",
   "execution_count": 31,
   "id": "04786a77-e0f3-46b3-bcc8-fde2d31ef233",
   "metadata": {},
   "outputs": [
    {
     "name": "stdout",
     "output_type": "stream",
     "text": [
      "\u001b[1m75/75\u001b[0m \u001b[32m━━━━━━━━━━━━━━━━━━━━\u001b[0m\u001b[37m\u001b[0m \u001b[1m1s\u001b[0m 14ms/step - age_loss: 109.5981 - age_mae: 7.8451 - gender_accuracy: 0.7804 - gender_loss: 0.4445 - loss: 110.0710\n",
      "Test Gender Accuracy: 8.07\n",
      "Test Age MAE: 0.80\n"
     ]
    }
   ],
   "source": [
    "\n",
    "# Evaluate model\n",
    "loss = model.evaluate(X_test, [y_test[:, 0], y_test[:, 1]])\n",
    "print(f\"Test Gender Accuracy: {loss[3]:.2f}\")\n",
    "print(f\"Test Age MAE: {loss[4]:.2f}\")"
   ]
  },
  {
   "cell_type": "code",
   "execution_count": null,
   "id": "c292339f-8ebc-4adb-910a-f2799558f2d8",
   "metadata": {},
   "outputs": [],
   "source": []
  }
 ],
 "metadata": {
  "kernelspec": {
   "display_name": "Python 3 (ipykernel)",
   "language": "python",
   "name": "python3"
  },
  "language_info": {
   "codemirror_mode": {
    "name": "ipython",
    "version": 3
   },
   "file_extension": ".py",
   "mimetype": "text/x-python",
   "name": "python",
   "nbconvert_exporter": "python",
   "pygments_lexer": "ipython3",
   "version": "3.12.7"
  }
 },
 "nbformat": 4,
 "nbformat_minor": 5
}
