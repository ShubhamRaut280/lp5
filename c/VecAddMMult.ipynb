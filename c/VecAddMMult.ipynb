{
 "cells": [
  {
   "cell_type": "code",
   "execution_count": null,
   "metadata": {
    "colab": {
     "base_uri": "https://localhost:8080/"
    },
    "id": "XotT1rbS7N57",
    "outputId": "b64790a9-4f2e-4386-82b8-1f13305b8d6d"
   },
   "outputs": [
    {
     "name": "stdout",
     "output_type": "stream",
     "text": [
      "/usr/local/cuda/bin/nvcc\n"
     ]
    }
   ],
   "source": [
    "!which nvcc"
   ]
  },
  {
   "cell_type": "code",
   "execution_count": null,
   "metadata": {
    "colab": {
     "base_uri": "https://localhost:8080/"
    },
    "id": "zrUhe4jn7S0I",
    "outputId": "6eb0e87a-96d1-4af3-9fee-47f2006450b9"
   },
   "outputs": [
    {
     "name": "stdout",
     "output_type": "stream",
     "text": [
      "Overwriting vector_add_input_fixed.cu\n"
     ]
    }
   ],
   "source": [
    "%%writefile vector_add_input_fixed.cu\n",
    "#include <stdio.h>\n",
    "#include <stdlib.h>\n",
    "\n",
    "__global__ void vectorAdd(int *a, int *b, int *c, int n) {\n",
    "    int i = blockIdx.x * blockDim.x + threadIdx.x;\n",
    "    if (i < n) {\n",
    "        c[i] = a[i] + b[i];\n",
    "    }\n",
    "}\n",
    "\n",
    "int main() {\n",
    "    int n;\n",
    "    scanf(\"%d\", &n);  // Number of elements\n",
    "\n",
    "    int *a = (int*)malloc(n * sizeof(int));\n",
    "    int *b = (int*)malloc(n * sizeof(int));\n",
    "    int *c = (int*)malloc(n * sizeof(int));\n",
    "\n",
    "    for (int i = 0; i < n; i++) {\n",
    "        scanf(\"%d\", &a[i]);\n",
    "    }\n",
    "\n",
    "    for (int i = 0; i < n; i++) {\n",
    "        scanf(\"%d\", &b[i]);\n",
    "    }\n",
    "\n",
    "    int *d_a, *d_b, *d_c;\n",
    "    cudaMalloc(&d_a, n * sizeof(int));\n",
    "    cudaMalloc(&d_b, n * sizeof(int));\n",
    "    cudaMalloc(&d_c, n * sizeof(int));\n",
    "\n",
    "    cudaMemcpy(d_a, a, n * sizeof(int), cudaMemcpyHostToDevice);\n",
    "    cudaMemcpy(d_b, b, n * sizeof(int), cudaMemcpyHostToDevice);\n",
    "\n",
    "    int blockSize = 256;\n",
    "    int gridSize = (n + blockSize - 1) / blockSize;\n",
    "    vectorAdd<<<gridSize, blockSize>>>(d_a, d_b, d_c, n);\n",
    "    cudaDeviceSynchronize();  // Ensure GPU finishes before copying results\n",
    "\n",
    "    cudaMemcpy(c, d_c, n * sizeof(int), cudaMemcpyDeviceToHost);\n",
    "\n",
    "    for (int i = 0; i < n; i++) {\n",
    "        printf(\"%d \", c[i]);\n",
    "    }\n",
    "    printf(\"\\n\");\n",
    "\n",
    "    cudaFree(d_a); cudaFree(d_b); cudaFree(d_c);\n",
    "    free(a); free(b); free(c);\n",
    "    return 0;\n",
    "}\n"
   ]
  },
  {
   "cell_type": "code",
   "execution_count": null,
   "metadata": {
    "id": "0SCdvAsl74QB"
   },
   "outputs": [],
   "source": [
    "!nvcc -arch=sm_75 vector_add_input_fixed.cu -o vector_add_input_fixed"
   ]
  },
  {
   "cell_type": "code",
   "execution_count": null,
   "metadata": {
    "colab": {
     "base_uri": "https://localhost:8080/"
    },
    "id": "9u7KqtYh74bQ",
    "outputId": "c924f086-5882-44fa-d821-955dbed9ed0d"
   },
   "outputs": [
    {
     "name": "stdout",
     "output_type": "stream",
     "text": [
      "11 22 33 44 55 \n"
     ]
    }
   ],
   "source": [
    "!echo -e \"5\\n1 2 3 4 5\\n10 20 30 40 50\" | ./vector_add_input_fixed"
   ]
  },
  {
   "cell_type": "code",
   "execution_count": null,
   "metadata": {
    "colab": {
     "base_uri": "https://localhost:8080/"
    },
    "id": "whPm-33XJ4nf",
    "outputId": "242a1c72-6b45-438a-c9ea-1fd8b2c402e3"
   },
   "outputs": [
    {
     "name": "stdout",
     "output_type": "stream",
     "text": [
      "nvcc: NVIDIA (R) Cuda compiler driver\n",
      "Copyright (c) 2005-2024 NVIDIA Corporation\n",
      "Built on Thu_Jun__6_02:18:23_PDT_2024\n",
      "Cuda compilation tools, release 12.5, V12.5.82\n",
      "Build cuda_12.5.r12.5/compiler.34385749_0\n"
     ]
    }
   ],
   "source": [
    "!nvcc --version"
   ]
  },
  {
   "cell_type": "code",
   "execution_count": null,
   "metadata": {
    "colab": {
     "base_uri": "https://localhost:8080/"
    },
    "id": "-PpBAhmrF2t-",
    "outputId": "d6e29cfc-5d08-4b7a-c8fe-0973a74a11fb"
   },
   "outputs": [
    {
     "name": "stdout",
     "output_type": "stream",
     "text": [
      "Writing cuda_runtime.cu\n"
     ]
    }
   ],
   "source": [
    "%%writefile cuda_runtime.cu\n",
    "\n",
    "#include <stdio.h>\n",
    "#include <stdlib.h>\n",
    "\n",
    "#define N 512  // Size of the square matrix (N x N)\n",
    "\n",
    "// CUDA kernel for matrix multiplication\n",
    "__global__ void matrixMul(int *A, int *B, int *C, int n) {\n",
    "    int row = blockIdx.y * blockDim.y + threadIdx.y;  // Row index\n",
    "    int col = blockIdx.x * blockDim.x + threadIdx.x;  // Column index\n",
    "\n",
    "    if (row < n && col < n) {\n",
    "        int sum = 0;\n",
    "        for (int k = 0; k < n; k++) {\n",
    "            sum += A[row * n + k] * B[k * n + col];\n",
    "        }\n",
    "        C[row * n + col] = sum;\n",
    "    }\n",
    "}\n",
    "\n",
    "int main() {\n",
    "    int size = N * N * sizeof(int);\n",
    "    int *A, *B, *C;         // Host matrices\n",
    "    int *d_A, *d_B, *d_C;   // Device matrices\n",
    "\n",
    "    // Allocate memory on host\n",
    "    A = (int*)malloc(size);\n",
    "    B = (int*)malloc(size);\n",
    "    C = (int*)malloc(size);\n",
    "\n",
    "    // Initialize matrices A and B\n",
    "    for (int i = 0; i < N * N; i++) {\n",
    "        A[i] = 1;  // Or any values you want\n",
    "        B[i] = 2;\n",
    "    }\n",
    "\n",
    "    // Allocate memory on device\n",
    "    cudaMalloc((void**)&d_A, size);\n",
    "    cudaMalloc((void**)&d_B, size);\n",
    "    cudaMalloc((void**)&d_C, size);\n",
    "\n",
    "    // Copy data from host to device\n",
    "    cudaMemcpy(d_A, A, size, cudaMemcpyHostToDevice);\n",
    "    cudaMemcpy(d_B, B, size, cudaMemcpyHostToDevice);\n",
    "\n",
    "    // Define block and grid dimensions\n",
    "    dim3 blockDim(16, 16);  // Each block has 16x16 threads\n",
    "    dim3 gridDim((N + 15) / 16, (N + 15) / 16);  // Enough blocks to cover matrix\n",
    "\n",
    "    // Launch the kernel\n",
    "    matrixMul<<<gridDim, blockDim>>>(d_A, d_B, d_C, N);\n",
    "\n",
    "    // Copy result back to host\n",
    "    cudaMemcpy(C, d_C, size, cudaMemcpyDeviceToHost);\n",
    "\n",
    "    // Verify a few values (optional)\n",
    "    printf(\"Result at (0,0): %d\\n\", C[0]);\n",
    "    printf(\"Result at (N-1,N-1): %d\\n\", C[N*N - 1]);\n",
    "\n",
    "    // Free memory\n",
    "    cudaFree(d_A);\n",
    "    cudaFree(d_B);\n",
    "    cudaFree(d_C);\n",
    "\n",
    "    free(A);\n",
    "    free(B);\n",
    "    free(C);\n",
    "\n",
    "    return 0;\n",
    "}\n"
   ]
  },
  {
   "cell_type": "code",
   "execution_count": null,
   "metadata": {
    "id": "b0oB3gunGxm4"
   },
   "outputs": [],
   "source": [
    "!nvcc -arch=sm_75 -gencode=arch=compute_75,code=sm_75 cuda_runtime.cu -o cuda_runtime"
   ]
  },
  {
   "cell_type": "code",
   "execution_count": null,
   "metadata": {
    "colab": {
     "base_uri": "https://localhost:8080/"
    },
    "id": "ZEelJ-hxHOI3",
    "outputId": "5e9e47cf-5fd1-4b1c-8730-e633c00ff5ce"
   },
   "outputs": [
    {
     "name": "stdout",
     "output_type": "stream",
     "text": [
      "Result at (0,0): 1024\n",
      "Result at (N-1,N-1): 1024\n"
     ]
    }
   ],
   "source": [
    "!./cuda_runtime"
   ]
  }
 ],
 "metadata": {
  "accelerator": "GPU",
  "colab": {
   "gpuType": "T4",
   "provenance": []
  },
  "kernelspec": {
   "display_name": "Python 3 (ipykernel)",
   "language": "python",
   "name": "python3"
  },
  "language_info": {
   "codemirror_mode": {
    "name": "ipython",
    "version": 3
   },
   "file_extension": ".py",
   "mimetype": "text/x-python",
   "name": "python",
   "nbconvert_exporter": "python",
   "pygments_lexer": "ipython3",
   "version": "3.12.7"
  }
 },
 "nbformat": 4,
 "nbformat_minor": 4
}
